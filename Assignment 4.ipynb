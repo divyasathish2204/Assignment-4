{
 "cells": [
  {
   "cell_type": "code",
   "execution_count": 2,
   "id": "f1c832bf",
   "metadata": {},
   "outputs": [
    {
     "data": {
      "text/plain": [
       "list"
      ]
     },
     "execution_count": 2,
     "metadata": {},
     "output_type": "execute_result"
    }
   ],
   "source": [
    "#question 1\n",
    "l = []\n",
    "l\n",
    "type(l)  \n",
    "# we use [] for indexing purpose"
   ]
  },
  {
   "cell_type": "code",
   "execution_count": 8,
   "id": "ed54d017",
   "metadata": {},
   "outputs": [
    {
     "data": {
      "text/plain": [
       "[2, 4, 6, 8, 10]"
      ]
     },
     "execution_count": 8,
     "metadata": {},
     "output_type": "execute_result"
    }
   ],
   "source": [
    "#question 2\n",
    "spam = [2,4,6,8,10]\n",
    "spam"
   ]
  },
  {
   "cell_type": "code",
   "execution_count": 9,
   "id": "5cfa6c84",
   "metadata": {},
   "outputs": [
    {
     "data": {
      "text/plain": [
       "[2, 4, 6, 'spam', 8, 10]"
      ]
     },
     "execution_count": 9,
     "metadata": {},
     "output_type": "execute_result"
    }
   ],
   "source": [
    "spam.insert(3,'spam')\n",
    "spam"
   ]
  },
  {
   "cell_type": "code",
   "execution_count": 19,
   "id": "67b329c5",
   "metadata": {},
   "outputs": [
    {
     "data": {
      "text/plain": [
       "'d'"
      ]
     },
     "execution_count": 19,
     "metadata": {},
     "output_type": "execute_result"
    }
   ],
   "source": [
    "# question 3\n",
    "spam = ['a','b','c','d']\n",
    "spam[int(int('3'* 2) / 11)] #spam[3]='d'\n"
   ]
  },
  {
   "cell_type": "code",
   "execution_count": 20,
   "id": "0e344452",
   "metadata": {},
   "outputs": [
    {
     "data": {
      "text/plain": [
       "'d'"
      ]
     },
     "execution_count": 20,
     "metadata": {},
     "output_type": "execute_result"
    }
   ],
   "source": [
    "# question 4\n",
    "spam[-1] # prints in reverse order"
   ]
  },
  {
   "cell_type": "code",
   "execution_count": 21,
   "id": "2882f3f2",
   "metadata": {},
   "outputs": [
    {
     "data": {
      "text/plain": [
       "['a', 'b']"
      ]
     },
     "execution_count": 21,
     "metadata": {},
     "output_type": "execute_result"
    }
   ],
   "source": [
    "# question 5\n",
    "spam[:2]  # starting index is taken as 0 and stop index is 2(where upperbound minus one is output)"
   ]
  },
  {
   "cell_type": "code",
   "execution_count": 33,
   "id": "5bbea579",
   "metadata": {},
   "outputs": [
    {
     "data": {
      "text/plain": [
       "1"
      ]
     },
     "execution_count": 33,
     "metadata": {},
     "output_type": "execute_result"
    }
   ],
   "source": [
    "# question 6\n",
    "bacon = [3.14,'cat',11, 'cat',True] \n",
    "bacon.index('cat')                  # index of cat is 1"
   ]
  },
  {
   "cell_type": "code",
   "execution_count": 28,
   "id": "49545589",
   "metadata": {},
   "outputs": [
    {
     "data": {
      "text/plain": [
       "[3.14, 'cat', 11, 'cat', True, 99]"
      ]
     },
     "execution_count": 28,
     "metadata": {},
     "output_type": "execute_result"
    }
   ],
   "source": [
    "# question 7\n",
    "bacon.append(99)\n",
    "bacon            # append the object to the end of the list"
   ]
  },
  {
   "cell_type": "code",
   "execution_count": 45,
   "id": "2e48c1b9",
   "metadata": {},
   "outputs": [
    {
     "data": {
      "text/plain": [
       "[3.14, 11, 'cat', True]"
      ]
     },
     "execution_count": 45,
     "metadata": {},
     "output_type": "execute_result"
    }
   ],
   "source": [
    "# question 8\n",
    "bacon = [3.14,'cat',11, 'cat',True] \n",
    "bacon.remove('cat')\n",
    "bacon                  # removes cat which is in first index by directly giving value and not 3rd value"
   ]
  },
  {
   "cell_type": "code",
   "execution_count": 53,
   "id": "41fc6e08",
   "metadata": {},
   "outputs": [
    {
     "name": "stdout",
     "output_type": "stream",
     "text": [
      "conacatenated list: [1, 4, 5, 6, 5, 3, 5, 7, 2, 5]\n"
     ]
    }
   ],
   "source": [
    "# question 9\n",
    "# concatenation operators are used to combine two lists\n",
    "list1 = [1, 4, 5, 6, 5]\n",
    "list2 = [3, 5, 7, 2, 5]\n",
    " # using naive method to concat\n",
    "for i in list2 :\n",
    "    list1.append(i)\n",
    "print(\"conacatenated list: \" + str(list1))\n",
    "# using + operator to concat\n",
    "list2 = list2 + list1\n",
    "# using list.extend() to concat\n",
    "list2.extend(list1)\n",
    "# using * opearator to concat\n",
    " list3 = [*list1, *list2]\n"
   ]
  },
  {
   "cell_type": "code",
   "execution_count": 55,
   "id": "874c1c6b",
   "metadata": {},
   "outputs": [
    {
     "name": "stdout",
     "output_type": "stream",
     "text": [
      "[1, 1, 1, 1, 1]\n"
     ]
    },
    {
     "data": {
      "text/plain": [
       "[2, 3, 4, 2, 3, 4, 2, 3, 4, 2, 3, 4]"
      ]
     },
     "execution_count": 55,
     "metadata": {},
     "output_type": "execute_result"
    }
   ],
   "source": [
    "# replication operators\n",
    "#when list is on the left of the star then it becomes repitition operator\n",
    "#The repetition operator makes multiple copies of a list and joins them all together. \n",
    "#Lists can be created using the repetition operator \n",
    "#For example,\n",
    "a = [1] * 5\n",
    "print(a)\n",
    "b = [2,3,4] * 4\n",
    "b"
   ]
  },
  {
   "cell_type": "code",
   "execution_count": 60,
   "id": "bfcdcc1f",
   "metadata": {},
   "outputs": [
    {
     "data": {
      "text/plain": [
       "[3, 2, 4, 5, 6, 7, 9]"
      ]
     },
     "execution_count": 60,
     "metadata": {},
     "output_type": "execute_result"
    }
   ],
   "source": [
    "# question 10\n",
    "l = [2,4,5,6,7]\n",
    "l.append(9)      # appends value to the end of the list\n",
    "l.insert(0,3)     # inserts value anywere we want in the list\n",
    "l"
   ]
  },
  {
   "cell_type": "code",
   "execution_count": 69,
   "id": "c481d34f",
   "metadata": {},
   "outputs": [
    {
     "data": {
      "text/plain": [
       "[4, 5, 6, 7]"
      ]
     },
     "execution_count": 69,
     "metadata": {},
     "output_type": "execute_result"
    }
   ],
   "source": [
    "# question 11\n",
    "l = [2,4,5,6,7,8,9]\n",
    "l.pop(5)  # removes value of the list by giving index value\n",
    "l\n",
    "# output:[2,4,5,6,7,9]\n",
    "l.pop()    #removes last value when index is not given\n",
    "l\n",
    "# output:[2,4,5,6,7]\n",
    "l.remove(2)  # removes value directly by giving value and not by index\n",
    "l"
   ]
  },
  {
   "cell_type": "code",
   "execution_count": 1,
   "id": "92bcd236",
   "metadata": {
    "scrolled": true
   },
   "outputs": [
    {
     "data": {
      "text/plain": [
       "{'name': 'divya', 'place': 'chennai', 'num': 9398548312}"
      ]
     },
     "execution_count": 1,
     "metadata": {},
     "output_type": "execute_result"
    }
   ],
   "source": [
    "# question 12\n",
    "l = [2,4,5,7,8]\n",
    "name = \"divya\"\n",
    "#both list values ans string values arre unhashable."
   ]
  },
  {
   "cell_type": "code",
   "execution_count": 25,
   "id": "a1609048",
   "metadata": {},
   "outputs": [
    {
     "data": {
      "text/plain": [
       "[5, 6, 7, 9, 8, 9, 2, 4]"
      ]
     },
     "execution_count": 25,
     "metadata": {},
     "output_type": "execute_result"
    }
   ],
   "source": [
    "#question 13\n",
    "#lists are mutable \n",
    "# tuples are immutable\n",
    "l = [5,6,7,8,9,2]\n",
    "l.append(4)        #we can add,modify,delete values in lists\n",
    "l\n",
    "l.insert(3,9)\n",
    "l"
   ]
  },
  {
   "cell_type": "code",
   "execution_count": 23,
   "id": "649cd98b",
   "metadata": {},
   "outputs": [
    {
     "ename": "AttributeError",
     "evalue": "'tuple' object has no attribute 'append'",
     "output_type": "error",
     "traceback": [
      "\u001b[1;31m---------------------------------------------------------------------------\u001b[0m",
      "\u001b[1;31mAttributeError\u001b[0m                            Traceback (most recent call last)",
      "\u001b[1;32m~\\AppData\\Local\\Temp\\ipykernel_39096\\525973677.py\u001b[0m in \u001b[0;36m<module>\u001b[1;34m\u001b[0m\n\u001b[0;32m      1\u001b[0m \u001b[0mt\u001b[0m \u001b[1;33m=\u001b[0m \u001b[1;33m(\u001b[0m\u001b[1;36m6\u001b[0m\u001b[1;33m,\u001b[0m\u001b[1;36m7\u001b[0m\u001b[1;33m,\u001b[0m\u001b[1;36m8\u001b[0m\u001b[1;33m,\u001b[0m\u001b[1;36m9\u001b[0m\u001b[1;33m,\u001b[0m\u001b[1;36m5\u001b[0m\u001b[1;33m)\u001b[0m\u001b[1;33m\u001b[0m\u001b[1;33m\u001b[0m\u001b[0m\n\u001b[1;32m----> 2\u001b[1;33m \u001b[0mt\u001b[0m\u001b[1;33m.\u001b[0m\u001b[0mappend\u001b[0m\u001b[1;33m(\u001b[0m\u001b[1;33m)\u001b[0m\u001b[1;33m\u001b[0m\u001b[1;33m\u001b[0m\u001b[0m\n\u001b[0m\u001b[0;32m      3\u001b[0m \u001b[0mt\u001b[0m\u001b[1;33m\u001b[0m\u001b[1;33m\u001b[0m\u001b[0m\n",
      "\u001b[1;31mAttributeError\u001b[0m: 'tuple' object has no attribute 'append'"
     ]
    }
   ],
   "source": [
    "#question 13\n",
    "t = (6,7,8,9,5)\n",
    "t.append()\n",
    "t     \n",
    "# we cannot change tuple values once it is created"
   ]
  },
  {
   "cell_type": "code",
   "execution_count": 31,
   "id": "efc47959",
   "metadata": {},
   "outputs": [
    {
     "data": {
      "text/plain": [
       "42"
      ]
     },
     "execution_count": 31,
     "metadata": {},
     "output_type": "execute_result"
    }
   ],
   "source": [
    "# question 14\n",
    "t = (42)\n",
    "t"
   ]
  },
  {
   "cell_type": "code",
   "execution_count": 33,
   "id": "525506de",
   "metadata": {},
   "outputs": [
    {
     "data": {
      "text/plain": [
       "(2, 4, 5, 8, 1)"
      ]
     },
     "execution_count": 33,
     "metadata": {},
     "output_type": "execute_result"
    }
   ],
   "source": [
    "# question 15\n",
    "t = (4,6,7,8,9)\n",
    "l = [2,4,5,8,1]\n",
    "tuple(l)"
   ]
  },
  {
   "cell_type": "code",
   "execution_count": 34,
   "id": "f4fbe5a0",
   "metadata": {},
   "outputs": [
    {
     "data": {
      "text/plain": [
       "[4, 6, 7, 8, 9]"
      ]
     },
     "execution_count": 34,
     "metadata": {},
     "output_type": "execute_result"
    }
   ],
   "source": [
    "list(t)"
   ]
  },
  {
   "cell_type": "code",
   "execution_count": 38,
   "id": "008a5436",
   "metadata": {},
   "outputs": [
    {
     "data": {
      "text/plain": [
       "[3, 5, 6, 'divya', [3, 7, 8], (1, 2, 3), {'name': 'jahnu'}]"
      ]
     },
     "execution_count": 38,
     "metadata": {},
     "output_type": "execute_result"
    }
   ],
   "source": [
    "# question 16\n",
    "l = [3,5,6,\"divya\",[3,7,8],(1,2,3),{\"name\":\"jahnu\"}] # inside list there is another lists,tuples,dict.....\n",
    "l"
   ]
  },
  {
   "cell_type": "code",
   "execution_count": 81,
   "id": "f8197a0b",
   "metadata": {},
   "outputs": [],
   "source": [
    "#  question 17\n",
    "a = [[1, 2, 3], [4, 5, 6]]\n",
    "b = list(a)\n",
    "a = [[1, 2, 3], [4, 5, 6]]\n",
    "b = [[1, 2, 3], [4, 5, 6]]\n",
    "a[0][1] = 10\n",
    "a = [[1, 10, 3], [4, 5, 6]]\n",
    "b = [[1, 10, 3], [4, 5, 6]]  #b changes too -> Not a deepcopy"
   ]
  },
  {
   "cell_type": "code",
   "execution_count": 86,
   "id": "f0f9d54e",
   "metadata": {},
   "outputs": [
    {
     "data": {
      "text/plain": [
       "[[1, 2, 3], [4, 5, 6]]"
      ]
     },
     "execution_count": 86,
     "metadata": {},
     "output_type": "execute_result"
    }
   ],
   "source": [
    "import copy\n",
    "a = [[1, 2, 3], [4, 5, 6]]\n",
    "b = copy.deepcopy(a)\n",
    "b\n",
    "a[0][1] = 10\n",
    "a = [[1,10,3],[4,5,6]]\n",
    "b = [[1,2,3],[4,5,6]] # b doesn't change=>deep copy"
   ]
  }
 ],
 "metadata": {
  "kernelspec": {
   "display_name": "Python 3 (ipykernel)",
   "language": "python",
   "name": "python3"
  },
  "language_info": {
   "codemirror_mode": {
    "name": "ipython",
    "version": 3
   },
   "file_extension": ".py",
   "mimetype": "text/x-python",
   "name": "python",
   "nbconvert_exporter": "python",
   "pygments_lexer": "ipython3",
   "version": "3.9.13"
  }
 },
 "nbformat": 4,
 "nbformat_minor": 5
}
